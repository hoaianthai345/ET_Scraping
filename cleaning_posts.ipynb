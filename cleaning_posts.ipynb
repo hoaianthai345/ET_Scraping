{
 "cells": [
  {
   "cell_type": "code",
   "execution_count": null,
   "id": "4aeb82be",
   "metadata": {},
   "outputs": [],
   "source": [
    "import pandas as pd\n",
    "\n",
    "\n"
   ]
  },
  {
   "cell_type": "code",
   "execution_count": null,
   "id": "3825d5a7",
   "metadata": {},
   "outputs": [],
   "source": [
    "df = pd.read_excel('dataset_facebook-posts-scraper_2025-05-08_01-53-11-191.xlsx')"
   ]
  }
 ],
 "metadata": {
  "language_info": {
   "name": "python"
  }
 },
 "nbformat": 4,
 "nbformat_minor": 5
}
